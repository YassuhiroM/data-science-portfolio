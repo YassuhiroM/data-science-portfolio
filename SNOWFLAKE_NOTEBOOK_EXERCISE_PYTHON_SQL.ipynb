{
 "metadata": {
  "kernelspec": {
   "display_name": "Streamlit Notebook",
   "name": "streamlit"
  },
  "lastEditStatus": {
   "notebookId": "6uvpvrslsm6525aede2a",
   "authorId": "1009582162623",
   "authorName": "DOLPHIN",
   "authorEmail": "",
   "sessionId": "b2eb4123-0ceb-49b5-9829-195ac6c0aee2",
   "lastEditTime": 1754753273978
  }
 },
 "nbformat_minor": 5,
 "nbformat": 4,
 "cells": [
  {
   "cell_type": "markdown",
   "id": "e39024a6-6ec0-40a7-9a58-c1102b56caec",
   "metadata": {
    "name": "Intro",
    "collapsed": false
   },
   "source": "# SnowFlake Notebook Exercise (simultaneous Python and SQL)  \nThis is a simple Notebook exercise in SnowFlake to demonstrate the power of using both Python and SQL together for powerful results.  \n\nTo run it in SnowFlake you will need to register to get access at the official website - https://www.snowflake.com/en/\n\nIn the SnowFlake notebooks we have an integrated environment where we can write and execute cells with SQL, Python and Markdown in one place. That integration is also available in Jupyter Notebooks with SQL Magics, in Databricks Notebooks, Microsoft Fabric Notebook and Hex.\n\nIn this basic example, we use both the SQL to treat the data and get to a workable data table and then Python Pandas and Seaborn to visualize the data. \n\nHere is the path:\n1) PYTHON: Importing libraries [pandas](https://pandas.pydata.org/) , [seaborn](https://seaborn.pydata.org/) and [matplotlib](https://matplotlib.org/)\n2) SQL: Role, Warehouse, Database, Schema and copying  tables from another Database in SnowFlake\n3) SQL: Using the funcion UNION ALL to create a new table with  population including 2021, that was in a table apart\n4) SQL: Filtering the data for BRAZIL ('BRA')\n5) PYTHON: Printing a bar graphic with the evolution of the Brazilian population from 1960 to 2021"
  },
  {
   "cell_type": "markdown",
   "id": "089b1d65-a34a-4b4a-aaa0-959b8cd2a766",
   "metadata": {
    "name": "Header1",
    "collapsed": false
   },
   "source": "#### 1. PYTHON: Importing libraries (pandas, seaborn and matplotlib)"
  },
  {
   "cell_type": "code",
   "id": "363e8ef5-d162-4ac5-a2ea-1354afc93524",
   "metadata": {
    "language": "python",
    "name": "Importing_Python_Libraries",
    "codeCollapsed": false
   },
   "outputs": [],
   "source": "# Import python packages\nimport pandas as pd\nimport seaborn as sns\nimport matplotlib.pyplot as plt\n\n# We can also use Snowpark for our analyses!\n#from snowflake.snowpark.context import get_active_session\n#session = get_active_session()",
   "execution_count": null
  },
  {
   "cell_type": "markdown",
   "id": "6690c04b-e597-4f81-bbe3-b10e62675c47",
   "metadata": {
    "name": "Header2",
    "collapsed": false
   },
   "source": "#### 2. SQL: Role, Warehouse, Database, Schema and copying  tables from another Database in SnowFlake"
  },
  {
   "cell_type": "code",
   "id": "3775908f-ca36-4846-8f38-5adca39217f2",
   "metadata": {
    "language": "sql",
    "name": "DataDefinitionLanguage_Role_WH_DB_SCHEMA",
    "collapsed": true,
    "codeCollapsed": false
   },
   "source": "USE ROLE TRAINING_ROLE;\nUSE WAREHOUSE DOLPHIN_WH;\nUSE DATABASE DOLPHIN_DB;\nUSE SCHEMA ONU;",
   "execution_count": null,
   "outputs": []
  },
  {
   "cell_type": "code",
   "id": "8d50cbf4-0c8d-4950-86cb-114990437ac9",
   "metadata": {
    "language": "sql",
    "name": "Copying_tables",
    "codeCollapsed": false,
    "collapsed": true
   },
   "source": "-- 1. Loading the table CONTRY_POPULATIONS (typo kept) in DOLPHIN_DB.ONU\nCREATE OR REPLACE TABLE \"COUNTRY_POPULATIONS\" AS\nSELECT * FROM \"UCM\".\"ONU\".\"CONTRY_POPULATIONS\";\n\n-- 2. Loading the table COUNTRIES in DOLPHIN_DB.ONU\nCREATE OR REPLACE TABLE \"COUNTRIES\" AS\nSELECT * FROM \"UCM\".\"ONU\".\"COUNTRIES\";\n\n-- 3. Loading the table UCM.ONU.COUNTRY_POPULATIONS_2021 in DOLPHIN_DB.ONU\nCREATE OR REPLACE TABLE \"COUNTRY_POPULATIONS_2021\" AS\nSELECT * FROM \"UCM\".\"ONU\".\"COUNTRY_POPULATIONS_2021\";",
   "execution_count": null,
   "outputs": []
  },
  {
   "cell_type": "markdown",
   "id": "fa27826e-53e4-465e-b8ce-27e49e56c9ee",
   "metadata": {
    "name": "Header3",
    "collapsed": false
   },
   "source": "#### 3. SQL: Using UNION ALL to create a new table with including population in 2021"
  },
  {
   "cell_type": "code",
   "id": "702ea2da-6f9f-48a7-8b9b-1143cf52a3e0",
   "metadata": {
    "language": "sql",
    "name": "Unifying_Population_tables",
    "codeCollapsed": false,
    "collapsed": true
   },
   "outputs": [],
   "source": "CREATE OR REPLACE TABLE complete_populations AS\nSELECT *\nFROM country_populations\nUNION ALL\nSELECT *\nFROM country_populations_2021\norder by YEAR DESC;",
   "execution_count": null
  },
  {
   "cell_type": "markdown",
   "id": "3aa03133-a592-4220-aa45-ac2a3977e61d",
   "metadata": {
    "name": "Header4",
    "collapsed": false
   },
   "source": "#### 4. SQL: Filtering the data for BRAZIL ('BRA')"
  },
  {
   "cell_type": "code",
   "id": "fabb959e-03e5-402b-a3b4-1982ea441670",
   "metadata": {
    "language": "sql",
    "name": "cell1",
    "codeCollapsed": false
   },
   "outputs": [],
   "source": "SELECT *       \nFROM COUNTRIES\nWHERE UPPER(COUNTRY) = 'BRAZIL';",
   "execution_count": null
  },
  {
   "cell_type": "code",
   "id": "6780490f-4f02-430d-8a85-a094c636e2ac",
   "metadata": {
    "language": "sql",
    "name": "cell12",
    "codeCollapsed": false
   },
   "outputs": [],
   "source": "SELECT *\nFROM complete_populations\nWHERE COUNTRY_ID = 'BRA'\nORDER BY YEAR DESC;",
   "execution_count": null
  },
  {
   "cell_type": "markdown",
   "id": "85b73633-d7db-4e6e-a90d-0f5268b89658",
   "metadata": {
    "name": "Header5",
    "collapsed": false
   },
   "source": "#### 5. PYTHON: Printing a bar graphic with the evolution of the Brazilian population from 1960 to 2021"
  },
  {
   "cell_type": "code",
   "id": "2c480e0e-4c18-46b0-8800-4c8c5f8bc213",
   "metadata": {
    "language": "python",
    "name": "Bar_Graphic"
   },
   "outputs": [],
   "source": "# Then, we can use the python name to turn cell2 into a Pandas dataframe\nmy_df = cell12.to_pandas()\n\nplt.figure(figsize=(10, 6))\nsns.barplot(x='YEAR', y='POPULATION', data=my_df)\nplt.title('Population by Country and Year')\nplt.xlabel('Year')\nplt.ylabel('Population (in millions)')\nplt.xticks(rotation=60, ha='right', fontsize=8)\n\nplt.tight_layout()\nplt.show()",
   "execution_count": null
  }
 ]
}